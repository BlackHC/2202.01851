{
 "cells": [
  {
   "cell_type": "markdown",
   "id": "spread-estate",
   "metadata": {},
   "source": [
    "# Extract Predictions from PACS using various `timm` models"
   ]
  },
  {
   "cell_type": "code",
   "execution_count": 1,
   "id": "joined-vacuum",
   "metadata": {
    "collapsed": false,
    "jupyter": {
     "outputs_hidden": false
    },
    "pycharm": {
     "name": "#%%\n"
    }
   },
   "outputs": [
    {
     "name": "stdout",
     "output_type": "stream",
     "text": [
      "Appended /home/blackhc/PycharmProjects/gde_repro/src to paths\n",
      "Switched to directory /home/blackhc/PycharmProjects/gde_repro\n",
      "%load_ext autoreload\n",
      "%autoreload 2\n"
     ]
    }
   ],
   "source": [
    "import blackhc.project.script"
   ]
  },
  {
   "cell_type": "code",
   "execution_count": 2,
   "id": "further-reaction",
   "metadata": {
    "collapsed": false,
    "jupyter": {
     "outputs_hidden": false
    },
    "pycharm": {
     "name": "#%%\n"
    }
   },
   "outputs": [],
   "source": [
    "import timm"
   ]
  },
  {
   "cell_type": "code",
   "execution_count": 3,
   "id": "proprietary-scientist",
   "metadata": {},
   "outputs": [],
   "source": [
    "from timm.data.transforms_factory import transforms_imagenet_eval\n",
    "from torchvision import transforms"
   ]
  },
  {
   "cell_type": "code",
   "execution_count": 4,
   "id": "agricultural-elimination",
   "metadata": {},
   "outputs": [],
   "source": [
    "from timm.data import create_dataset, create_loader, resolve_data_config\n",
    "from timm.data.transforms_factory import create_transform"
   ]
  },
  {
   "cell_type": "code",
   "execution_count": 5,
   "id": "balanced-lover",
   "metadata": {},
   "outputs": [],
   "source": [
    "import torch\n",
    "import torch.nn"
   ]
  },
  {
   "cell_type": "code",
   "execution_count": 6,
   "id": "studied-berry",
   "metadata": {},
   "outputs": [],
   "source": [
    "torch.backends.cudnn.benchmark = True"
   ]
  },
  {
   "cell_type": "code",
   "execution_count": 7,
   "id": "national-chase",
   "metadata": {},
   "outputs": [],
   "source": [
    "#model = timm.create_model(\"beit_large_patch16_224\", pretrained=True, scriptable=True)\n",
    "#model = timm.create_model(\"deit3_large_patch16_224_in21ft1k\", pretrained=True, scriptable=True)\n",
    "#model = timm.create_model(\"vit_base_patch16_384\", pretrained=True, scriptable=True)\n",
    "#model = timm.create_model(\"convnext_large_in22ft1k\", pretrained=True, scriptable=True)\n",
    "#model = timm.create_model(\"resnet152d\", pretrained=True, scriptable=True)"
   ]
  },
  {
   "cell_type": "code",
   "execution_count": 8,
   "id": "auburn-belgium",
   "metadata": {},
   "outputs": [],
   "source": [
    "model.cuda()\n",
    "model.eval();"
   ]
  },
  {
   "cell_type": "code",
   "execution_count": 9,
   "id": "jewish-philadelphia",
   "metadata": {},
   "outputs": [
    {
     "data": {
      "text/plain": [
       "{'url': 'https://dl.fbaipublicfiles.com/convnext/convnext_large_22k_1k_224.pth',\n",
       " 'num_classes': 1000,\n",
       " 'input_size': (3, 224, 224),\n",
       " 'pool_size': (7, 7),\n",
       " 'crop_pct': 0.875,\n",
       " 'interpolation': 'bicubic',\n",
       " 'mean': (0.485, 0.456, 0.406),\n",
       " 'std': (0.229, 0.224, 0.225),\n",
       " 'first_conv': 'stem.0',\n",
       " 'classifier': 'head.fc',\n",
       " 'architecture': 'convnext_large_in22ft1k'}"
      ]
     },
     "execution_count": 9,
     "metadata": {},
     "output_type": "execute_result"
    }
   ],
   "source": [
    "model.pretrained_cfg"
   ]
  },
  {
   "cell_type": "code",
   "execution_count": 10,
   "id": "insured-ordinance",
   "metadata": {},
   "outputs": [],
   "source": [
    "data_config = resolve_data_config(dict(crop_pct=0.0), model=model)\n",
    "eval_transform = create_transform(**data_config)"
   ]
  },
  {
   "cell_type": "code",
   "execution_count": 11,
   "id": "three-threat",
   "metadata": {},
   "outputs": [],
   "source": [
    "from timm.models import apply_test_time_pool"
   ]
  },
  {
   "cell_type": "code",
   "execution_count": 12,
   "id": "burning-passenger",
   "metadata": {},
   "outputs": [],
   "source": [
    "test_time_pool = True\n",
    "if test_time_pool:\n",
    "    model, test_time_pool = apply_test_time_pool(model, data_config)"
   ]
  },
  {
   "cell_type": "code",
   "execution_count": 13,
   "id": "super-coordinator",
   "metadata": {},
   "outputs": [],
   "source": [
    "# Monkey patch timm's forward_features\n",
    "model.__class__.forward_head = torch.jit.export(model.__class__.forward_head)\n",
    "model.__class__.forward_features = torch.jit.export(model.__class__.forward_features)"
   ]
  },
  {
   "cell_type": "code",
   "execution_count": 14,
   "id": "chronic-cleanup",
   "metadata": {},
   "outputs": [],
   "source": [
    "torch.jit.optimized_execution(True)\n",
    "#jit_model = torch.jit.script(model)\n",
    "jit_model = model"
   ]
  },
  {
   "cell_type": "code",
   "execution_count": 15,
   "id": "mighty-participant",
   "metadata": {},
   "outputs": [],
   "source": [
    "import os.path"
   ]
  },
  {
   "cell_type": "code",
   "execution_count": 16,
   "id": "charming-butter",
   "metadata": {},
   "outputs": [],
   "source": [
    "sub_dataset_names = [\"art_painting\", \"cartoon\", \"photo\", \"sketch\"]\n",
    "datasets = {sub_dataset_name: create_dataset(\"pacs\", os.path.expanduser(f\"~/datasets/pacs/{sub_dataset_name}\")) for sub_dataset_name in sub_dataset_names}"
   ]
  },
  {
   "cell_type": "code",
   "execution_count": 17,
   "id": "quarterly-running",
   "metadata": {},
   "outputs": [],
   "source": [
    "from tqdm.auto import tqdm"
   ]
  },
  {
   "cell_type": "code",
   "execution_count": 18,
   "id": "institutional-norman",
   "metadata": {},
   "outputs": [],
   "source": [
    "import gc\n",
    "\n",
    "import torch\n",
    "\n",
    "\n",
    "def gc_cuda():\n",
    "    \"\"\"Gargage collect Torch (CUDA) memory.\"\"\"\n",
    "    gc.collect()\n",
    "    if torch.cuda.is_available():\n",
    "        torch.cuda.empty_cache()"
   ]
  },
  {
   "cell_type": "code",
   "execution_count": 19,
   "id": "fifteen-train",
   "metadata": {},
   "outputs": [],
   "source": [
    "def collect_features(jit_model, loader):\n",
    "    labels = []\n",
    "    features = []\n",
    "    with torch.inference_mode():\n",
    "        for batch_images, batch_labels in tqdm(loader):\n",
    "            #print(batch_images.shape)\n",
    "            batch_features = jit_model.forward_head(jit_model.forward_features(batch_images.cuda()), pre_logits=True)\n",
    "            #print(batch_features.shape)\n",
    "            labels += [batch_labels.cpu()]\n",
    "            features += [batch_features.cpu()]\n",
    "\n",
    "    gc_cuda()\n",
    "    #print(batch_features.shape)\n",
    "\n",
    "    labels = torch.cat(labels)\n",
    "    features = torch.cat(features)\n",
    "    return labels, features"
   ]
  },
  {
   "cell_type": "code",
   "execution_count": 20,
   "id": "protecting-hybrid",
   "metadata": {},
   "outputs": [
    {
     "data": {
      "application/vnd.jupyter.widget-view+json": {
       "model_id": "07f6f10102bf4369a4df0d5ea6412f0d",
       "version_major": 2,
       "version_minor": 0
      },
      "text/plain": [
       "  0%|          | 0/32 [00:00<?, ?it/s]"
      ]
     },
     "metadata": {},
     "output_type": "display_data"
    },
    {
     "data": {
      "application/vnd.jupyter.widget-view+json": {
       "model_id": "31c2f681790645759a47f0940b273f78",
       "version_major": 2,
       "version_minor": 0
      },
      "text/plain": [
       "  0%|          | 0/37 [00:00<?, ?it/s]"
      ]
     },
     "metadata": {},
     "output_type": "display_data"
    },
    {
     "data": {
      "application/vnd.jupyter.widget-view+json": {
       "model_id": "18fcc3a392b44282af159b2ffe4167af",
       "version_major": 2,
       "version_minor": 0
      },
      "text/plain": [
       "  0%|          | 0/27 [00:00<?, ?it/s]"
      ]
     },
     "metadata": {},
     "output_type": "display_data"
    },
    {
     "data": {
      "application/vnd.jupyter.widget-view+json": {
       "model_id": "0c4401520f9b4c7cb906b5e566ced274",
       "version_major": 2,
       "version_minor": 0
      },
      "text/plain": [
       "  0%|          | 0/62 [00:00<?, ?it/s]"
      ]
     },
     "metadata": {},
     "output_type": "display_data"
    }
   ],
   "source": [
    "crop_pct = 1.0 if test_time_pool else data_config[\"crop_pct\"]\n",
    "\n",
    "for dataset_name in sub_dataset_names:\n",
    "    loader = create_loader(\n",
    "        datasets[dataset_name],\n",
    "        input_size=data_config[\"input_size\"],\n",
    "        batch_size=64,\n",
    "        use_prefetcher=True,\n",
    "        interpolation=data_config[\"interpolation\"],\n",
    "        mean=data_config[\"mean\"],\n",
    "        std=data_config[\"std\"],\n",
    "        num_workers=8,\n",
    "        crop_pct=crop_pct,\n",
    "        pin_memory=True,\n",
    "        tf_preprocessing=False,\n",
    "    )\n",
    "    labels, features = collect_features(jit_model, loader)\n",
    "    \n",
    "    validation_features_info = dict(features=features, labels=labels, pretrained_cfg=model.pretrained_cfg, subdataset=dataset_name)\n",
    "    torch.save(validation_features_info, f\"pacs_{dataset_name}_features_labels_{model.pretrained_cfg['architecture']}.pt\")"
   ]
  },
  {
   "cell_type": "code",
   "execution_count": null,
   "id": "racial-pickup",
   "metadata": {},
   "outputs": [],
   "source": []
  }
 ],
 "metadata": {
  "kernelspec": {
   "display_name": "Python [conda env:gde_repro]",
   "language": "python",
   "name": "conda-env-gde_repro-py"
  },
  "language_info": {
   "codemirror_mode": {
    "name": "ipython",
    "version": 3
   },
   "file_extension": ".py",
   "mimetype": "text/x-python",
   "name": "python",
   "nbconvert_exporter": "python",
   "pygments_lexer": "ipython3",
   "version": "3.10.4"
  }
 },
 "nbformat": 4,
 "nbformat_minor": 5
}
