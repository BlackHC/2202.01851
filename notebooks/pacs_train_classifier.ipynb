{
 "cells": [
  {
   "cell_type": "markdown",
   "id": "frank-assurance",
   "metadata": {},
   "source": [
    "# PACS: train a classifier on top of pretrained features\n"
   ]
  },
  {
   "cell_type": "code",
   "execution_count": 785,
   "id": "running-column",
   "metadata": {},
   "outputs": [],
   "source": [
    "import blackhc.project.script"
   ]
  },
  {
   "cell_type": "code",
   "execution_count": 786,
   "id": "pressed-leather",
   "metadata": {},
   "outputs": [],
   "source": [
    "from timm.data.transforms_factory import transforms_imagenet_eval\n",
    "from torchvision import transforms"
   ]
  },
  {
   "cell_type": "code",
   "execution_count": 787,
   "id": "varied-castle",
   "metadata": {},
   "outputs": [],
   "source": [
    "from timm.data import create_dataset, create_loader, resolve_data_config\n",
    "from timm.data.transforms_factory import create_transform"
   ]
  },
  {
   "cell_type": "code",
   "execution_count": 788,
   "id": "patent-mason",
   "metadata": {},
   "outputs": [],
   "source": [
    "import torch\n",
    "import torch.nn"
   ]
  },
  {
   "cell_type": "code",
   "execution_count": 789,
   "id": "satisfied-legend",
   "metadata": {},
   "outputs": [],
   "source": [
    "#torch.manual_seed(123)"
   ]
  },
  {
   "cell_type": "code",
   "execution_count": 790,
   "id": "protective-intermediate",
   "metadata": {},
   "outputs": [],
   "source": [
    "from tqdm.auto import tqdm"
   ]
  },
  {
   "cell_type": "code",
   "execution_count": 791,
   "id": "complex-venice",
   "metadata": {},
   "outputs": [],
   "source": [
    "torch.backends.cudnn.benchmark = True"
   ]
  },
  {
   "cell_type": "code",
   "execution_count": 792,
   "id": "toxic-healing",
   "metadata": {},
   "outputs": [],
   "source": [
    "from torch.utils.data import TensorDataset, DataLoader"
   ]
  },
  {
   "cell_type": "code",
   "execution_count": 793,
   "id": "italic-association",
   "metadata": {},
   "outputs": [
    {
     "name": "stdout",
     "output_type": "stream",
     "text": [
      "compute_results/pacs_art_painting_features_labels_beit_large_patch16_224.pt\n",
      "compute_results/pacs_art_painting_features_labels_convnext_large_in22ft1k.pt\n",
      "compute_results/pacs_art_painting_features_labels_deit3_large_patch16_224_in21ft1k.pt\n",
      "compute_results/pacs_art_painting_features_labels_resnet152d.pt\n",
      "compute_results/pacs_art_painting_features_labels_vit_base_patch16_384.pt\n",
      "compute_results/pacs_cartoon_features_labels_beit_large_patch16_224.pt\n",
      "compute_results/pacs_cartoon_features_labels_convnext_large_in22ft1k.pt\n",
      "compute_results/pacs_cartoon_features_labels_deit3_large_patch16_224_in21ft1k.pt\n",
      "compute_results/pacs_cartoon_features_labels_resnet152d.pt\n",
      "compute_results/pacs_cartoon_features_labels_vit_base_patch16_384.pt\n",
      "compute_results/pacs_cartoon_sketch_beit_large_patch16_224_ensemble_probs_labels.pt\n",
      "compute_results/pacs_cartoon_sketch_convnext_large_in22ft1k_ensemble_probs_labels.pt\n",
      "compute_results/pacs_cartoon_sketch_deit3_large_patch16_224_in21ft1k_ensemble_probs_labels.pt\n",
      "compute_results/pacs_cartoon_sketch_resnet152d_ensemble_probs_labels.pt\n",
      "compute_results/pacs_cartoon_sketch_vit_base_patch16_384_ensemble_probs_labels.pt\n",
      "compute_results/pacs_photo_features_labels_beit_large_patch16_224.pt\n",
      "compute_results/pacs_photo_features_labels_convnext_large_in22ft1k.pt\n",
      "compute_results/pacs_photo_features_labels_deit3_large_patch16_224_in21ft1k.pt\n",
      "compute_results/pacs_photo_features_labels_resnet152d.pt\n",
      "compute_results/pacs_photo_features_labels_vit_base_patch16_384.pt\n",
      "compute_results/pacs_sketch_features_labels_beit_large_patch16_224.pt\n",
      "compute_results/pacs_sketch_features_labels_convnext_large_in22ft1k.pt\n",
      "compute_results/pacs_sketch_features_labels_deit3_large_patch16_224_in21ft1k.pt\n",
      "compute_results/pacs_sketch_features_labels_resnet152d.pt\n",
      "compute_results/pacs_sketch_features_labels_vit_base_patch16_384.pt\n"
     ]
    }
   ],
   "source": [
    "!ls compute_results/pacs*.pt"
   ]
  },
  {
   "cell_type": "code",
   "execution_count": 794,
   "id": "level-integration",
   "metadata": {},
   "outputs": [],
   "source": [
    "#architecture=\"resnet152d\"\n",
    "#architecture=\"beit_large_patch16_224\"\n",
    "#architecture=\"convnext_large_in22ft1k\"\n",
    "#architecture=\"vit_base_patch16_384\"\n",
    "#architecture=\"deit3_large_patch16_224_in21ft1k\""
   ]
  },
  {
   "cell_type": "code",
   "execution_count": 795,
   "id": "configured-czech",
   "metadata": {},
   "outputs": [],
   "source": [
    "def get_feature_path(name):\n",
    "    return f\"compute_results/pacs_{name}_features_labels_{architecture}.pt\""
   ]
  },
  {
   "cell_type": "code",
   "execution_count": 796,
   "id": "looking-reliance",
   "metadata": {},
   "outputs": [],
   "source": [
    "features_info = torch.load(get_feature_path(\"photo\"))"
   ]
  },
  {
   "cell_type": "code",
   "execution_count": 797,
   "id": "seeing-knowing",
   "metadata": {},
   "outputs": [],
   "source": [
    "other_features_info = torch.load(get_feature_path(\"art_painting\"))"
   ]
  },
  {
   "cell_type": "code",
   "execution_count": 798,
   "id": "perceived-collar",
   "metadata": {},
   "outputs": [],
   "source": [
    "features = features_info[\"features\"]"
   ]
  },
  {
   "cell_type": "code",
   "execution_count": 799,
   "id": "behind-engineering",
   "metadata": {},
   "outputs": [],
   "source": [
    "labels = features_info[\"labels\"]"
   ]
  },
  {
   "cell_type": "code",
   "execution_count": 800,
   "id": "handmade-welding",
   "metadata": {},
   "outputs": [
    {
     "name": "stdout",
     "output_type": "stream",
     "text": [
      "{'url': 'https://dl.fbaipublicfiles.com/deit/deit_3_large_224_21k.pth', 'num_classes': 1000, 'input_size': (3, 224, 224), 'pool_size': None, 'crop_pct': 1.0, 'interpolation': 'bicubic', 'fixed_input_size': True, 'mean': (0.485, 0.456, 0.406), 'std': (0.229, 0.224, 0.225), 'first_conv': 'patch_embed.proj', 'classifier': 'head', 'architecture': 'deit3_large_patch16_224_in21ft1k'}\n",
      "photo\n"
     ]
    }
   ],
   "source": [
    "print(features_info[\"pretrained_cfg\"])\n",
    "print(features_info[\"subdataset\"])"
   ]
  },
  {
   "cell_type": "code",
   "execution_count": 801,
   "id": "polished-criminal",
   "metadata": {},
   "outputs": [],
   "source": [
    "feature_label_dataset = TensorDataset(features.cuda(), labels.cuda())"
   ]
  },
  {
   "cell_type": "code",
   "execution_count": 802,
   "id": "dependent-found",
   "metadata": {},
   "outputs": [
    {
     "data": {
      "text/plain": [
       "tensor(6)"
      ]
     },
     "execution_count": 802,
     "metadata": {},
     "output_type": "execute_result"
    }
   ],
   "source": [
    "labels.max()"
   ]
  },
  {
   "cell_type": "code",
   "execution_count": 803,
   "id": "mounted-consumer",
   "metadata": {},
   "outputs": [],
   "source": [
    "feature_label_loader = DataLoader(feature_label_dataset, shuffle=True, batch_size=128, drop_last=True)"
   ]
  },
  {
   "cell_type": "code",
   "execution_count": 804,
   "id": "aggregate-rochester",
   "metadata": {},
   "outputs": [],
   "source": [
    "def get_test_accuracy(model, other_features_info):\n",
    "    with torch.inference_mode():\n",
    "        accuracy = torch.sum(model(other_features_info[\"features\"].cuda()).argmax(dim=-1) == other_features_info[\"labels\"].cuda())\n",
    "        rel_accuracy = accuracy.item()/len(other_features_info['labels'])\n",
    "    return f\"{rel_accuracy} ({accuracy.item()}/{len(other_features_info['labels'])})\""
   ]
  },
  {
   "cell_type": "code",
   "execution_count": 805,
   "id": "wound-angle",
   "metadata": {},
   "outputs": [],
   "source": [
    "def get_test_loss(model, other_features_info):\n",
    "    with torch.inference_mode():\n",
    "        loss = torch.nn.functional.cross_entropy(model(other_features_info[\"features\"].cuda()), other_features_info[\"labels\"].cuda())\n",
    "    return loss.item()"
   ]
  },
  {
   "cell_type": "code",
   "execution_count": 806,
   "id": "bulgarian-digest",
   "metadata": {},
   "outputs": [],
   "source": [
    "import torch.optim"
   ]
  },
  {
   "cell_type": "code",
   "execution_count": 807,
   "id": "greenhouse-silence",
   "metadata": {},
   "outputs": [],
   "source": [
    "def train(feature_label_loader, other_feature_info):\n",
    "    model = torch.nn.Linear(feature_label_loader.dataset.tensors[0].shape[1], 7, device=\"cuda\")\n",
    "    optimizer = torch.optim.AdamW(model.parameters(), lr=5e-3)\n",
    "    \n",
    "    for epoch in tqdm(range(1000)):\n",
    "        losses = 0\n",
    "        for batch_features, batch_labels in feature_label_loader:\n",
    "            optimizer.zero_grad()\n",
    "            logits = model(batch_features)        \n",
    "            loss = torch.nn.functional.cross_entropy(logits, batch_labels)\n",
    "            loss.backward()\n",
    "            optimizer.step()\n",
    "            losses += loss.item()\n",
    "        \n",
    "    print(\"Loss:\", losses/len(feature_label_loader))    \n",
    "    test_accuracy = get_test_accuracy(model, other_features_info)\n",
    "    print(\"Validation Accuracy:\", test_accuracy)\n",
    "    print(\"Validation Loss:\", get_test_loss(model, other_features_info))\n",
    "    return model"
   ]
  },
  {
   "cell_type": "code",
   "execution_count": 808,
   "id": "interracial-token",
   "metadata": {
    "tags": []
   },
   "outputs": [
    {
     "data": {
      "application/vnd.jupyter.widget-view+json": {
       "model_id": "55d314aaed214ccbba0289587acdc46b",
       "version_major": 2,
       "version_minor": 0
      },
      "text/plain": [
       "  0%|          | 0/1000 [00:00<?, ?it/s]"
      ]
     },
     "metadata": {},
     "output_type": "display_data"
    },
    {
     "name": "stdout",
     "output_type": "stream",
     "text": [
      "Loss: 5.150928244618696e-08\n",
      "Validation Accuracy: 0.83447265625 (1709/2048)\n",
      "Validation Loss: 0.6504312753677368\n"
     ]
    },
    {
     "data": {
      "application/vnd.jupyter.widget-view+json": {
       "model_id": "b45cab7dc28e4c828fcb2ea080c6377c",
       "version_major": 2,
       "version_minor": 0
      },
      "text/plain": [
       "  0%|          | 0/1000 [00:00<?, ?it/s]"
      ]
     },
     "metadata": {},
     "output_type": "display_data"
    },
    {
     "name": "stdout",
     "output_type": "stream",
     "text": [
      "Loss: 5.057796014485715e-08\n",
      "Validation Accuracy: 0.82177734375 (1683/2048)\n",
      "Validation Loss: 0.7403531074523926\n"
     ]
    },
    {
     "data": {
      "application/vnd.jupyter.widget-view+json": {
       "model_id": "47bc5e7e05014d59bb6bff3cb29b20a2",
       "version_major": 2,
       "version_minor": 0
      },
      "text/plain": [
       "  0%|          | 0/1000 [00:00<?, ?it/s]"
      ]
     },
     "metadata": {},
     "output_type": "display_data"
    },
    {
     "name": "stdout",
     "output_type": "stream",
     "text": [
      "Loss: 4.8213836615437124e-08\n",
      "Validation Accuracy: 0.818359375 (1676/2048)\n",
      "Validation Loss: 0.7954893112182617\n"
     ]
    },
    {
     "data": {
      "application/vnd.jupyter.widget-view+json": {
       "model_id": "be6b9645208f449bbf28ee5e0bdf7f61",
       "version_major": 2,
       "version_minor": 0
      },
      "text/plain": [
       "  0%|          | 0/1000 [00:00<?, ?it/s]"
      ]
     },
     "metadata": {},
     "output_type": "display_data"
    },
    {
     "name": "stdout",
     "output_type": "stream",
     "text": [
      "Loss: 5.3371925955703915e-08\n",
      "Validation Accuracy: 0.8408203125 (1722/2048)\n",
      "Validation Loss: 0.6489322781562805\n"
     ]
    },
    {
     "data": {
      "application/vnd.jupyter.widget-view+json": {
       "model_id": "44bba568461e4b12a359d0d0b74014ea",
       "version_major": 2,
       "version_minor": 0
      },
      "text/plain": [
       "  0%|          | 0/1000 [00:00<?, ?it/s]"
      ]
     },
     "metadata": {},
     "output_type": "display_data"
    },
    {
     "name": "stdout",
     "output_type": "stream",
     "text": [
      "Loss: 4.9360078281123464e-08\n",
      "Validation Accuracy: 0.82080078125 (1681/2048)\n",
      "Validation Loss: 0.738153874874115\n"
     ]
    }
   ],
   "source": [
    "ensemble_models = [train(feature_label_loader, other_features_info) for _ in range(5)]"
   ]
  },
  {
   "cell_type": "code",
   "execution_count": 809,
   "id": "hungry-booth",
   "metadata": {},
   "outputs": [],
   "source": [
    "# Get cartoons and sketches together\n",
    "cartoon_feature_info = torch.load(get_feature_path(\"cartoon\"))\n",
    "sketch_feature_info = torch.load(get_feature_path(\"sketch\"))"
   ]
  },
  {
   "cell_type": "code",
   "execution_count": 810,
   "id": "surface-cement",
   "metadata": {},
   "outputs": [],
   "source": [
    "shifted_features = torch.cat([other_features_info[\"features\"], cartoon_feature_info[\"features\"], sketch_feature_info[\"features\"]])\n",
    "shifted_labels = torch.cat([other_features_info[\"labels\"], cartoon_feature_info[\"labels\"], sketch_feature_info[\"labels\"]])"
   ]
  },
  {
   "cell_type": "code",
   "execution_count": 811,
   "id": "known-fitting",
   "metadata": {},
   "outputs": [],
   "source": [
    "shifted_feature_info = dict(features=shifted_features, labels=shifted_labels)"
   ]
  },
  {
   "cell_type": "code",
   "execution_count": 812,
   "id": "weighted-bryan",
   "metadata": {},
   "outputs": [
    {
     "data": {
      "text/plain": [
       "['0.6930657372911909 (5767/8321)',\n",
       " '0.680086528061531 (5659/8321)',\n",
       " '0.6782838601129672 (5644/8321)',\n",
       " '0.694507871650042 (5779/8321)',\n",
       " '0.6612186035332291 (5502/8321)']"
      ]
     },
     "execution_count": 812,
     "metadata": {},
     "output_type": "execute_result"
    }
   ],
   "source": [
    "[get_test_accuracy(ensemble_model, shifted_feature_info) for ensemble_model in ensemble_models]"
   ]
  },
  {
   "cell_type": "code",
   "execution_count": 813,
   "id": "recorded-browse",
   "metadata": {},
   "outputs": [],
   "source": [
    "with torch.inference_mode():\n",
    "    ensemble_logits = torch.stack([ensemble_model(shifted_features.cuda()) for ensemble_model in ensemble_models], dim=1)"
   ]
  },
  {
   "cell_type": "code",
   "execution_count": 814,
   "id": "shared-security",
   "metadata": {},
   "outputs": [
    {
     "data": {
      "text/plain": [
       "torch.Size([8321, 5, 7])"
      ]
     },
     "execution_count": 814,
     "metadata": {},
     "output_type": "execute_result"
    }
   ],
   "source": [
    "ensemble_logits.shape"
   ]
  },
  {
   "cell_type": "code",
   "execution_count": 815,
   "id": "informative-astrology",
   "metadata": {},
   "outputs": [],
   "source": [
    "ensemble_probs = torch.nn.functional.softmax(ensemble_logits, dim=-1).cpu()"
   ]
  },
  {
   "cell_type": "code",
   "execution_count": 816,
   "id": "gorgeous-freeware",
   "metadata": {},
   "outputs": [
    {
     "data": {
      "text/plain": [
       "'deit3_large_patch16_224_in21ft1k'"
      ]
     },
     "execution_count": 816,
     "metadata": {},
     "output_type": "execute_result"
    }
   ],
   "source": [
    "architecture = features_info[\"pretrained_cfg\"][\"architecture\"]\n",
    "architecture"
   ]
  },
  {
   "cell_type": "code",
   "execution_count": 817,
   "id": "imposed-boards",
   "metadata": {},
   "outputs": [],
   "source": [
    "validation_info = dict(predictions=ensemble_probs, labels=shifted_labels, pretrained_cfg={**features_info[\"pretrained_cfg\"], architecture:f\"Linear Model on top of {architecture}\"})\n",
    "\n",
    "torch.save(validation_info, f\"pacs_cartoon_sketch_{architecture}_ensemble_probs_labels.pt\")"
   ]
  },
  {
   "cell_type": "code",
   "execution_count": 818,
   "id": "dirty-international",
   "metadata": {},
   "outputs": [
    {
     "data": {
      "text/plain": [
       "{'url': 'https://dl.fbaipublicfiles.com/deit/deit_3_large_224_21k.pth',\n",
       " 'num_classes': 1000,\n",
       " 'input_size': (3, 224, 224),\n",
       " 'pool_size': None,\n",
       " 'crop_pct': 1.0,\n",
       " 'interpolation': 'bicubic',\n",
       " 'fixed_input_size': True,\n",
       " 'mean': (0.485, 0.456, 0.406),\n",
       " 'std': (0.229, 0.224, 0.225),\n",
       " 'first_conv': 'patch_embed.proj',\n",
       " 'classifier': 'head',\n",
       " 'architecture': 'deit3_large_patch16_224_in21ft1k',\n",
       " 'deit3_large_patch16_224_in21ft1k': 'Linear Model on top of deit3_large_patch16_224_in21ft1k'}"
      ]
     },
     "execution_count": 818,
     "metadata": {},
     "output_type": "execute_result"
    }
   ],
   "source": [
    "validation_info[\"pretrained_cfg\"]"
   ]
  },
  {
   "cell_type": "markdown",
   "id": "damaged-volume",
   "metadata": {},
   "source": [
    "# Verify Info Gain"
   ]
  },
  {
   "cell_type": "code",
   "execution_count": 819,
   "id": "quick-hardwood",
   "metadata": {},
   "outputs": [],
   "source": [
    "def entropy(probs):\n",
    "  \"\"\"Compute the prediction entropy for each ensemble member separately.\"\"\"\n",
    "  nats = probs * torch.log(probs)\n",
    "  nats[nats.isnan()]=0.\n",
    "  return -nats.sum(dim=-1)"
   ]
  },
  {
   "cell_type": "code",
   "execution_count": 820,
   "id": "serious-mouth",
   "metadata": {},
   "outputs": [],
   "source": [
    "def ensemble_entropy(probs):\n",
    "  \"\"\"Compute the ensemble prediction entropy.\"\"\"\n",
    "  mean_probs = probs.mean(dim=1, keepdim=False)\n",
    "  \n",
    "  nats = mean_probs * mean_probs.log()\n",
    "  nats[nats.isnan()]=0.\n",
    "  entropy = -nats.sum(dim=-1)\n",
    "\n",
    "  return entropy"
   ]
  },
  {
   "cell_type": "code",
   "execution_count": 821,
   "id": "comparative-faculty",
   "metadata": {},
   "outputs": [],
   "source": [
    "def info_gain(logits):\n",
    "  p_entropy = ensemble_entropy(logits)\n",
    "\n",
    "  avg_softmax_entropies = entropy(logits).mean(dim=1,keepdim=False)\n",
    "\n",
    "  value = p_entropy - avg_softmax_entropies\n",
    "  return value\n"
   ]
  },
  {
   "cell_type": "code",
   "execution_count": 822,
   "id": "understood-building",
   "metadata": {},
   "outputs": [
    {
     "data": {
      "text/plain": [
       "tensor(0.4564)"
      ]
     },
     "execution_count": 822,
     "metadata": {},
     "output_type": "execute_result"
    }
   ],
   "source": [
    "info_gain(ensemble_probs).max()"
   ]
  },
  {
   "cell_type": "code",
   "execution_count": 823,
   "id": "young-genome",
   "metadata": {},
   "outputs": [],
   "source": [
    "import seaborn as sns"
   ]
  },
  {
   "cell_type": "code",
   "execution_count": 824,
   "id": "atlantic-pastor",
   "metadata": {},
   "outputs": [
    {
     "data": {
      "text/plain": [
       "<seaborn.axisgrid.FacetGrid at 0x7fad1069bb80>"
      ]
     },
     "execution_count": 824,
     "metadata": {},
     "output_type": "execute_result"
    },
    {
     "data": {
      "image/png": "[encoded data removed]",
      "text/plain": [
       "<Figure size 360x360 with 1 Axes>"
      ]
     },
     "metadata": {
      "needs_background": "light"
     },
     "output_type": "display_data"
    }
   ],
   "source": [
    "sns.relplot(info_gain(ensemble_probs).numpy())"
   ]
  },
  {
   "cell_type": "code",
   "execution_count": null,
   "id": "private-emphasis",
   "metadata": {},
   "outputs": [],
   "source": []
  },
  {
   "cell_type": "code",
   "execution_count": null,
   "id": "hearing-crack",
   "metadata": {},
   "outputs": [],
   "source": []
  }
 ],
 "metadata": {
  "kernelspec": {
   "display_name": "Python [conda env:gde_repro]",
   "language": "python",
   "name": "conda-env-gde_repro-py"
  },
  "language_info": {
   "codemirror_mode": {
    "name": "ipython",
    "version": 3
   },
   "file_extension": ".py",
   "mimetype": "text/x-python",
   "name": "python",
   "nbconvert_exporter": "python",
   "pygments_lexer": "ipython3",
   "version": "3.10.4"
  }
 },
 "nbformat": 4,
 "nbformat_minor": 5
}
